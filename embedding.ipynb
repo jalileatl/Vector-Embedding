{
 "cells": [
  {
   "cell_type": "code",
   "execution_count": 1,
   "id": "a00dac3e",
   "metadata": {},
   "outputs": [],
   "source": [
    "import os\n",
    "from langchain_community.document_loaders import TextLoader\n",
    "from langchain_text_splitters import RecursiveCharacterTextSplitter\n",
    "from langchain_huggingface import HuggingFaceEmbeddings\n",
    "from langchain_community.vectorstores import FAISS\n",
    "\n",
    "\n"
   ]
  },
  {
   "cell_type": "code",
   "execution_count": 2,
   "id": "aa409ce8",
   "metadata": {},
   "outputs": [],
   "source": [
    "loader=TextLoader('sample_doc.txt')\n",
    "docs=loader.load()\n"
   ]
  },
  {
   "cell_type": "code",
   "execution_count": 3,
   "id": "272be49c",
   "metadata": {},
   "outputs": [
    {
     "data": {
      "text/plain": [
       "[Document(metadata={'source': 'sample_doc.txt'}, page_content='Company policy document\\n\\n\\nAll employees are entitled to 20 days of paid vacation leave annually. Work hours are from 9 AM to 6 PM.\\nRemote work is allowed for 2 days per week upon manager approval. Health insurance is provided to all full-time staff.')]"
      ]
     },
     "execution_count": 3,
     "metadata": {},
     "output_type": "execute_result"
    }
   ],
   "source": [
    "docs"
   ]
  },
  {
   "cell_type": "code",
   "execution_count": 4,
   "id": "bccbacb5",
   "metadata": {},
   "outputs": [],
   "source": [
    "splitter=RecursiveCharacterTextSplitter(chunk_size=50,  chunk_overlap=30)\n",
    "chunks=splitter.split_documents(docs)"
   ]
  },
  {
   "cell_type": "code",
   "execution_count": 5,
   "id": "c7a94987",
   "metadata": {},
   "outputs": [
    {
     "name": "stderr",
     "output_type": "stream",
     "text": [
      "c:\\Users\\kawse\\anaconda3\\envs\\env_langchain1\\lib\\site-packages\\tqdm\\auto.py:21: TqdmWarning: IProgress not found. Please update jupyter and ipywidgets. See https://ipywidgets.readthedocs.io/en/stable/user_install.html\n",
      "  from .autonotebook import tqdm as notebook_tqdm\n"
     ]
    }
   ],
   "source": [
    "embedding=HuggingFaceEmbeddings(model_name= 'sentence-transformers/all-mpnet-base-v2')"
   ]
  },
  {
   "cell_type": "code",
   "execution_count": 6,
   "id": "c9fb28f8",
   "metadata": {},
   "outputs": [],
   "source": [
    "vectorstore= FAISS.from_documents(chunks, embedding)"
   ]
  },
  {
   "cell_type": "code",
   "execution_count": 9,
   "id": "7eeadfda",
   "metadata": {},
   "outputs": [],
   "source": [
    "query=\"How many vacation days are given?\""
   ]
  },
  {
   "cell_type": "code",
   "execution_count": 13,
   "id": "0139e270",
   "metadata": {},
   "outputs": [],
   "source": [
    "retriever = vectorstore.as_retriever()\n"
   ]
  },
  {
   "cell_type": "code",
   "execution_count": 14,
   "id": "9bf1b98c",
   "metadata": {},
   "outputs": [
    {
     "name": "stdout",
     "output_type": "stream",
     "text": [
      "Top matching chunks:\n",
      "\n",
      "- days of paid vacation leave annually. Work hours\n",
      "- entitled to 20 days of paid vacation leave\n",
      "- All employees are entitled to 20 days of paid\n",
      "- for 2 days per week upon manager approval. Health\n"
     ]
    }
   ],
   "source": [
    "results = retriever.get_relevant_documents(query)\n",
    "\n",
    "print(\"Top matching chunks:\\n\")\n",
    "for doc in results:\n",
    "    print(\"-\", doc.page_content)"
   ]
  },
  {
   "cell_type": "code",
   "execution_count": null,
   "id": "e51d43dc",
   "metadata": {},
   "outputs": [],
   "source": []
  }
 ],
 "metadata": {
  "kernelspec": {
   "display_name": "env_langchain1",
   "language": "python",
   "name": "python3"
  },
  "language_info": {
   "codemirror_mode": {
    "name": "ipython",
    "version": 3
   },
   "file_extension": ".py",
   "mimetype": "text/x-python",
   "name": "python",
   "nbconvert_exporter": "python",
   "pygments_lexer": "ipython3",
   "version": "3.10.18"
  }
 },
 "nbformat": 4,
 "nbformat_minor": 5
}
